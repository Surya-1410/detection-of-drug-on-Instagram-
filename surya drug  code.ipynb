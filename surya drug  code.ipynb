{
 "cells": [
  {
   "cell_type": "code",
   "execution_count": 5,
   "id": "5cabffc8",
   "metadata": {},
   "outputs": [],
   "source": [
    "from sklearn import svm\n",
    "import csv\n",
    "import os,sys,re\n",
    "import numpy as np\n",
    "import random\n",
    "from sklearn import metrics\n",
    "from sklearn.metrics import roc_auc_score\n",
    "from matplotlib import pyplot\n",
    "import matplotlib.pyplot as plt"
   ]
  },
  {
   "cell_type": "code",
   "execution_count": 6,
   "id": "135bf4e6",
   "metadata": {},
   "outputs": [],
   "source": [
    "def read_csv(filepath):\n",
    "    csv_data = []\n",
    "    with open(filepath,'r',encoding = 'utf-16') as csv_file:\n",
    "        csv_reader = csv.reader(csv_file)\n",
    "        for row in csv_reader:\n",
    "            csv_data.append(' '.join(row))\n",
    "    return csv_data"
   ]
  },
  {
   "cell_type": "code",
   "execution_count": 7,
   "id": "925bb32d",
   "metadata": {},
   "outputs": [],
   "source": [
    "def clean(text):\n",
    "\n",
    "    text = re.sub(r'[^\\x00-\\x7F]+',' ', text)\n",
    "    text = str.replace(text,',',' ')\n",
    "    text = str.replace(text,\"'\",' ')\n",
    "    text = str.replace(text,'\"',' ')\n",
    "    text = str.replace(text,'!',' ')\n",
    "    text = str.replace(text,'^',' ')\n",
    "    text = str.replace(text,'(',' ')\n",
    "    text = str.replace(text,')',' ')\n",
    "    text = str.replace(text,'%',' ')\n",
    "    text = str.replace(text,'-',' ')\n",
    "    text = str.replace(text,'_',' ')\n",
    "    text = str.replace(text,'|',' ')\n",
    "    text = str.replace(text,'.',' ')\n",
    "    text = str.replace(text,':',' ')\n",
    "    #text = str.replace(text,'@',' ')\n",
    "    text = str.replace(text,'\\n',' ')\n",
    "    #text = str.replace(text,'#',' ');\n",
    "    #text = ' '.join(re.sub(\"(@[A-Za-z0-9+])|([^0-9A-Za-z \\t])|(\\w+:\\/\\/\\S+)\",\" \",text).split())"
   ]
  },
  {
   "cell_type": "code",
   "execution_count": 8,
   "id": "8d3f0c07",
   "metadata": {},
   "outputs": [
    {
     "ename": "NameError",
     "evalue": "name 'text' is not defined",
     "output_type": "error",
     "traceback": [
      "\u001b[1;31m---------------------------------------------------------------------------\u001b[0m",
      "\u001b[1;31mNameError\u001b[0m                                 Traceback (most recent call last)",
      "Input \u001b[1;32mIn [8]\u001b[0m, in \u001b[0;36m<cell line: 1>\u001b[1;34m()\u001b[0m\n\u001b[1;32m----> 1\u001b[0m text \u001b[38;5;241m=\u001b[39m re\u001b[38;5;241m.\u001b[39msub(\u001b[38;5;124m'\u001b[39m\u001b[38;5;124m\\\u001b[39m\u001b[38;5;124ms+\u001b[39m\u001b[38;5;124m'\u001b[39m, \u001b[38;5;124m'\u001b[39m\u001b[38;5;124m \u001b[39m\u001b[38;5;124m'\u001b[39m,\u001b[43mtext\u001b[49m)\u001b[38;5;241m.\u001b[39mstrip()\n\u001b[0;32m      2\u001b[0m text \u001b[38;5;241m=\u001b[39m text\u001b[38;5;241m.\u001b[39msplit(\u001b[38;5;124m'\u001b[39m\u001b[38;5;124m \u001b[39m\u001b[38;5;124m'\u001b[39m)\n\u001b[0;32m      3\u001b[0m new_text \u001b[38;5;241m=\u001b[39m []\n",
      "\u001b[1;31mNameError\u001b[0m: name 'text' is not defined"
     ]
    }
   ],
   "source": [
    "    text = re.sub('\\s+', ' ',text).strip()\n",
    "    text = text.split(' ')\n",
    "    new_text = []\n",
    "    for each in text:\n",
    "        if(str.find(each,'http') != -1):\n",
    "            continue\n",
    "        if not each.isalnum():\n",
    "            continue\n",
    "        new_text.append(str.lower(each))\n",
    "    text = ' '.join(new_text)"
   ]
  },
  {
   "cell_type": "code",
   "execution_count": 9,
   "id": "f9a0a741",
   "metadata": {},
   "outputs": [
    {
     "ename": "SyntaxError",
     "evalue": "'return' outside function (2405540433.py, line 1)",
     "output_type": "error",
     "traceback": [
      "\u001b[1;36m  Input \u001b[1;32mIn [9]\u001b[1;36m\u001b[0m\n\u001b[1;33m    return text\u001b[0m\n\u001b[1;37m    ^\u001b[0m\n\u001b[1;31mSyntaxError\u001b[0m\u001b[1;31m:\u001b[0m 'return' outside function\n"
     ]
    }
   ],
   "source": [
    "return text"
   ]
  },
  {
   "cell_type": "code",
   "execution_count": 10,
   "id": "ddc5339d",
   "metadata": {},
   "outputs": [],
   "source": [
    "def build_vocab(list_text):\n",
    "    words_vocab = []\n",
    "    for t in list_text:\n",
    "        for w in t.split(' '):\n",
    "            words_vocab.append(w)\n",
    "    return list(set(words_vocab))"
   ]
  },
  {
   "cell_type": "code",
   "execution_count": 11,
   "id": "faab4135",
   "metadata": {},
   "outputs": [
    {
     "ename": "SyntaxError",
     "evalue": "unexpected EOF while parsing (1334175925.py, line 7)",
     "output_type": "error",
     "traceback": [
      "\u001b[1;36m  Input \u001b[1;32mIn [11]\u001b[1;36m\u001b[0m\n\u001b[1;33m    file.close()\u001b[0m\n\u001b[1;37m                ^\u001b[0m\n\u001b[1;31mSyntaxError\u001b[0m\u001b[1;31m:\u001b[0m unexpected EOF while parsing\n"
     ]
    }
   ],
   "source": [
    "def write_vocab(vocab,vocab_path):\n",
    "    try:\n",
    "        file = open(vocab_path, 'w',encoding = 'utf-16')\n",
    "        for idx,item in enumerate(vocab):\n",
    "            file.write(str(idx)+'\\t')\n",
    "            file.write(\"%s\\n\" % item)\n",
    "        file.close()"
   ]
  },
  {
   "cell_type": "code",
   "execution_count": 12,
   "id": "854e0818",
   "metadata": {},
   "outputs": [
    {
     "ename": "SyntaxError",
     "evalue": "invalid syntax (2918994984.py, line 1)",
     "output_type": "error",
     "traceback": [
      "\u001b[1;36m  Input \u001b[1;32mIn [12]\u001b[1;36m\u001b[0m\n\u001b[1;33m    except Exception as e:\u001b[0m\n\u001b[1;37m    ^\u001b[0m\n\u001b[1;31mSyntaxError\u001b[0m\u001b[1;31m:\u001b[0m invalid syntax\n"
     ]
    }
   ],
   "source": [
    "    except Exception as e:\n",
    "        print(e)\n",
    "        print(\"can't open file\" + vocab_path)"
   ]
  },
  {
   "cell_type": "code",
   "execution_count": 13,
   "id": "d56be3ac",
   "metadata": {},
   "outputs": [],
   "source": [
    "def read_vocab(vocab_path):\n",
    "    #try:\n",
    "        with open(vocab_path) as f:\n",
    "            vocab = f.readlines()\n",
    "            vocab = [x.split('\\t')[1].replace('\\n','') for x in vocab] \n",
    "            return vocab"
   ]
  },
  {
   "cell_type": "code",
   "execution_count": 14,
   "id": "e55807af",
   "metadata": {},
   "outputs": [],
   "source": [
    "def write_index(text_list,vocab_list,input_path,keep_num):\n",
    "    #vocab = read_vocab(vocab_path)\n",
    "    vocab = vocab_list\n",
    "    btm_input = open(input_path,'w')\n",
    "    train_data = []    \n",
    "    for t in text_list:\n",
    "        text_index = []\n",
    "        for w in t.split(' '):\n",
    "            #print(w)\n",
    "            if w in vocab:  ###if the word is a new vocab, ignore it\n",
    "                btm_input.write(str(vocab.index(w))+' ')\n",
    "                text_index.append(int(vocab.index(w)))\n",
    "        if len(text_index) >= keep_num:\n",
    "            text_index = text_index[:keep_num]\n",
    "        else:\n",
    "            text_index += [0 for i in range(keep_num - len(text_index))]\n",
    "        btm_input.write('\\n')\n",
    "        train_data.append(text_index)\n",
    "        \n",
    "    btm_input.close()\n",
    "    return train_data\n",
    "\n"
   ]
  },
  {
   "cell_type": "code",
   "execution_count": 15,
   "id": "f21cb07e",
   "metadata": {},
   "outputs": [],
   "source": [
    "def convert_index_to_vector(train_data,vocab_list,keep_num):\n",
    "    #vocab = read_vocab(vocab_path)\n",
    "    vocab = vocab_list\n",
    "    train_vec = []\n",
    "    for data in train_data:\n",
    "        data_vec = []\n",
    "        for count in range(keep_num):\n",
    "            vec = [0 for i in vocab]\n",
    "            if count < len(data):\n",
    "                vec[int(data[count])] = 1\n",
    "            data_vec.append(vec)\n",
    "        train_vec.append(data_vec)\n",
    "    return np.array(train_vec)"
   ]
  },
  {
   "cell_type": "code",
   "execution_count": 16,
   "id": "a5882ce4",
   "metadata": {},
   "outputs": [],
   "source": [
    "def get_average_length(drug_dealer,online,other):\n",
    "    total_length = 0\n",
    "    for text in drug_dealer:\n",
    "        total_length += len(text)\n",
    "        \n",
    "    for text in online:\n",
    "        total_length += len(text)\n",
    "                            \n",
    "    for text in other:\n",
    "        total_length += len(text)\n",
    "        \n",
    "    return int(total_length/(len(drug_dealer)+len(online)+len(other)))\n"
   ]
  },
  {
   "cell_type": "code",
   "execution_count": 17,
   "id": "f841ac54",
   "metadata": {},
   "outputs": [],
   "source": [
    "def plot_graph(train,vali,label):\n",
    "    plt.plot(range(len(train)),train,label='train_'+label)\n",
    "    plt.plot(range(len(vali)),vali,label='vali_'+label)\n",
    "    if label == 'loss':\n",
    "        plt.legend(loc='upper right')\n",
    "    if label == 'acc':\n",
    "        plt.legend(loc='lower right')\n",
    "    plt.show()"
   ]
  },
  {
   "cell_type": "code",
   "execution_count": 18,
   "id": "d1a82fcf",
   "metadata": {},
   "outputs": [],
   "source": [
    "def get_hashtag(text):\n",
    "    hashtag = [tag for tag in text.replace('#',' #').split(' ') if tag.startswith(\"#\")]\n",
    "    return hashtag"
   ]
  },
  {
   "cell_type": "code",
   "execution_count": 19,
   "id": "b5e94abc",
   "metadata": {},
   "outputs": [],
   "source": [
    "def shuffle_data(test_index,test_label):\n",
    "    test_list = list(zip(test_index,test_label))\n",
    "    random.shuffle(test_list)\n",
    "    test = list(zip(*test_list))\n",
    "    test_index = test[0]\n",
    "    test_label = test[1]\n",
    "    return test_index,test_label\n"
   ]
  },
  {
   "cell_type": "code",
   "execution_count": 20,
   "id": "995f6e9f",
   "metadata": {},
   "outputs": [
    {
     "ename": "FileNotFoundError",
     "evalue": "[Errno 2] No such file or directory: './data/combined_result.csv'",
     "output_type": "error",
     "traceback": [
      "\u001b[1;31m---------------------------------------------------------------------------\u001b[0m",
      "\u001b[1;31mFileNotFoundError\u001b[0m                         Traceback (most recent call last)",
      "Input \u001b[1;32mIn [20]\u001b[0m, in \u001b[0;36m<cell line: 1>\u001b[1;34m()\u001b[0m\n\u001b[1;32m----> 1\u001b[0m total_data \u001b[38;5;241m=\u001b[39m \u001b[43mread_csv\u001b[49m\u001b[43m(\u001b[49m\u001b[38;5;124;43m'\u001b[39;49m\u001b[38;5;124;43m./data/combined_result.csv\u001b[39;49m\u001b[38;5;124;43m'\u001b[39;49m\u001b[43m)\u001b[49m\n\u001b[0;32m      2\u001b[0m test_data \u001b[38;5;241m=\u001b[39m [t\u001b[38;5;241m.\u001b[39msplit(\u001b[38;5;124m'\u001b[39m\u001b[38;5;130;01m\\t\u001b[39;00m\u001b[38;5;124m'\u001b[39m) \u001b[38;5;28;01mfor\u001b[39;00m t \u001b[38;5;129;01min\u001b[39;00m total_data]\n",
      "Input \u001b[1;32mIn [6]\u001b[0m, in \u001b[0;36mread_csv\u001b[1;34m(filepath)\u001b[0m\n\u001b[0;32m      1\u001b[0m \u001b[38;5;28;01mdef\u001b[39;00m \u001b[38;5;21mread_csv\u001b[39m(filepath):\n\u001b[0;32m      2\u001b[0m     csv_data \u001b[38;5;241m=\u001b[39m []\n\u001b[1;32m----> 3\u001b[0m     \u001b[38;5;28;01mwith\u001b[39;00m \u001b[38;5;28;43mopen\u001b[39;49m\u001b[43m(\u001b[49m\u001b[43mfilepath\u001b[49m\u001b[43m,\u001b[49m\u001b[38;5;124;43m'\u001b[39;49m\u001b[38;5;124;43mr\u001b[39;49m\u001b[38;5;124;43m'\u001b[39;49m\u001b[43m,\u001b[49m\u001b[43mencoding\u001b[49m\u001b[43m \u001b[49m\u001b[38;5;241;43m=\u001b[39;49m\u001b[43m \u001b[49m\u001b[38;5;124;43m'\u001b[39;49m\u001b[38;5;124;43mutf-16\u001b[39;49m\u001b[38;5;124;43m'\u001b[39;49m\u001b[43m)\u001b[49m \u001b[38;5;28;01mas\u001b[39;00m csv_file:\n\u001b[0;32m      4\u001b[0m         csv_reader \u001b[38;5;241m=\u001b[39m csv\u001b[38;5;241m.\u001b[39mreader(csv_file)\n\u001b[0;32m      5\u001b[0m         \u001b[38;5;28;01mfor\u001b[39;00m row \u001b[38;5;129;01min\u001b[39;00m csv_reader:\n",
      "\u001b[1;31mFileNotFoundError\u001b[0m: [Errno 2] No such file or directory: './data/combined_result.csv'"
     ]
    }
   ],
   "source": [
    "total_data = read_csv('./data/combined_result.csv')\n",
    "test_data = [t.split('\\t') for t in total_data]"
   ]
  },
  {
   "cell_type": "code",
   "execution_count": 21,
   "id": "b06bef27",
   "metadata": {},
   "outputs": [
    {
     "ename": "NameError",
     "evalue": "name 'test_data' is not defined",
     "output_type": "error",
     "traceback": [
      "\u001b[1;31m---------------------------------------------------------------------------\u001b[0m",
      "\u001b[1;31mNameError\u001b[0m                                 Traceback (most recent call last)",
      "Input \u001b[1;32mIn [21]\u001b[0m, in \u001b[0;36m<cell line: 1>\u001b[1;34m()\u001b[0m\n\u001b[1;32m----> 1\u001b[0m test_label \u001b[38;5;241m=\u001b[39m [\u001b[38;5;28mint\u001b[39m(t[\u001b[38;5;241m2\u001b[39m]) \u001b[38;5;28;01mfor\u001b[39;00m t \u001b[38;5;129;01min\u001b[39;00m \u001b[43mtest_data\u001b[49m[\u001b[38;5;241m1\u001b[39m:]]\n\u001b[0;32m      2\u001b[0m test_list \u001b[38;5;241m=\u001b[39m [t[\u001b[38;5;241m0\u001b[39m] \u001b[38;5;28;01mfor\u001b[39;00m t \u001b[38;5;129;01min\u001b[39;00m test_data[\u001b[38;5;241m1\u001b[39m:]]\n\u001b[0;32m      3\u001b[0m test_list,test_label \u001b[38;5;241m=\u001b[39m shuffle_data(test_list,test_label)\n",
      "\u001b[1;31mNameError\u001b[0m: name 'test_data' is not defined"
     ]
    }
   ],
   "source": [
    "test_label = [int(t[2]) for t in test_data[1:]]\n",
    "test_list = [t[0] for t in test_data[1:]]\n",
    "test_list,test_label = shuffle_data(test_list,test_label)"
   ]
  },
  {
   "cell_type": "code",
   "execution_count": 22,
   "id": "5328c4ed",
   "metadata": {},
   "outputs": [
    {
     "ename": "NameError",
     "evalue": "name 'test_data' is not defined",
     "output_type": "error",
     "traceback": [
      "\u001b[1;31m---------------------------------------------------------------------------\u001b[0m",
      "\u001b[1;31mNameError\u001b[0m                                 Traceback (most recent call last)",
      "Input \u001b[1;32mIn [22]\u001b[0m, in \u001b[0;36m<cell line: 1>\u001b[1;34m()\u001b[0m\n\u001b[1;32m----> 1\u001b[0m text_list \u001b[38;5;241m=\u001b[39m [clean(t[\u001b[38;5;241m0\u001b[39m]) \u001b[38;5;28;01mfor\u001b[39;00m t \u001b[38;5;129;01min\u001b[39;00m \u001b[43mtest_data\u001b[49m[\u001b[38;5;241m1\u001b[39m:]]\n",
      "\u001b[1;31mNameError\u001b[0m: name 'test_data' is not defined"
     ]
    }
   ],
   "source": [
    "text_list = [clean(t[0]) for t in test_data[1:]]"
   ]
  },
  {
   "cell_type": "code",
   "execution_count": 23,
   "id": "214a26ae",
   "metadata": {},
   "outputs": [
    {
     "ename": "NameError",
     "evalue": "name 'test_data' is not defined",
     "output_type": "error",
     "traceback": [
      "\u001b[1;31m---------------------------------------------------------------------------\u001b[0m",
      "\u001b[1;31mNameError\u001b[0m                                 Traceback (most recent call last)",
      "Input \u001b[1;32mIn [23]\u001b[0m, in \u001b[0;36m<cell line: 1>\u001b[1;34m()\u001b[0m\n\u001b[1;32m----> 1\u001b[0m hashtag_list \u001b[38;5;241m=\u001b[39m [\u001b[38;5;124m'\u001b[39m\u001b[38;5;124m \u001b[39m\u001b[38;5;124m'\u001b[39m\u001b[38;5;241m.\u001b[39mjoin(get_hashtag(t[\u001b[38;5;241m0\u001b[39m])) \u001b[38;5;28;01mfor\u001b[39;00m t \u001b[38;5;129;01min\u001b[39;00m \u001b[43mtest_data\u001b[49m[\u001b[38;5;241m1\u001b[39m:]]\n",
      "\u001b[1;31mNameError\u001b[0m: name 'test_data' is not defined"
     ]
    }
   ],
   "source": [
    "hashtag_list = [' '.join(get_hashtag(t[0])) for t in test_data[1:]]\n"
   ]
  },
  {
   "cell_type": "code",
   "execution_count": 24,
   "id": "c3ac4e36",
   "metadata": {},
   "outputs": [
    {
     "ename": "NameError",
     "evalue": "name 'test_list' is not defined",
     "output_type": "error",
     "traceback": [
      "\u001b[1;31m---------------------------------------------------------------------------\u001b[0m",
      "\u001b[1;31mNameError\u001b[0m                                 Traceback (most recent call last)",
      "Input \u001b[1;32mIn [24]\u001b[0m, in \u001b[0;36m<cell line: 1>\u001b[1;34m()\u001b[0m\n\u001b[1;32m----> 1\u001b[0m vocab_list \u001b[38;5;241m=\u001b[39m build_vocab(\u001b[43mtest_list\u001b[49m)\n\u001b[0;32m      2\u001b[0m write_vocab(vocab_list,\u001b[38;5;124m'\u001b[39m\u001b[38;5;124mtest_vocab.txt\u001b[39m\u001b[38;5;124m'\u001b[39m)\n",
      "\u001b[1;31mNameError\u001b[0m: name 'test_list' is not defined"
     ]
    }
   ],
   "source": [
    "vocab_list = build_vocab(test_list)\n",
    "write_vocab(vocab_list,'test_vocab.txt')"
   ]
  },
  {
   "cell_type": "code",
   "execution_count": 25,
   "id": "8df33a2d",
   "metadata": {},
   "outputs": [
    {
     "ename": "NameError",
     "evalue": "name 'test_list' is not defined",
     "output_type": "error",
     "traceback": [
      "\u001b[1;31m---------------------------------------------------------------------------\u001b[0m",
      "\u001b[1;31mNameError\u001b[0m                                 Traceback (most recent call last)",
      "Input \u001b[1;32mIn [25]\u001b[0m, in \u001b[0;36m<cell line: 1>\u001b[1;34m()\u001b[0m\n\u001b[1;32m----> 1\u001b[0m total_index \u001b[38;5;241m=\u001b[39m write_index(\u001b[43mtest_list\u001b[49m,vocab_list,\u001b[38;5;124m'\u001b[39m\u001b[38;5;124mtest_data.txt\u001b[39m\u001b[38;5;124m'\u001b[39m,\u001b[38;5;241m50\u001b[39m)\n\u001b[0;32m      2\u001b[0m text_index \u001b[38;5;241m=\u001b[39m write_index(text_list,vocab_list,\u001b[38;5;124m'\u001b[39m\u001b[38;5;124mtext_data.txt\u001b[39m\u001b[38;5;124m'\u001b[39m,\u001b[38;5;241m50\u001b[39m)\n\u001b[0;32m      3\u001b[0m hashtag_index \u001b[38;5;241m=\u001b[39m write_index(hashtag_list,vocab_list,\u001b[38;5;124m'\u001b[39m\u001b[38;5;124mhashtag_data.txt\u001b[39m\u001b[38;5;124m'\u001b[39m,\u001b[38;5;241m15\u001b[39m)\n",
      "\u001b[1;31mNameError\u001b[0m: name 'test_list' is not defined"
     ]
    }
   ],
   "source": [
    "total_index = write_index(test_list,vocab_list,'test_data.txt',50)\n",
    "text_index = write_index(text_list,vocab_list,'text_data.txt',50)\n",
    "hashtag_index = write_index(hashtag_list,vocab_list,'hashtag_data.txt',15)"
   ]
  },
  {
   "cell_type": "code",
   "execution_count": 26,
   "id": "e952e9c5",
   "metadata": {},
   "outputs": [
    {
     "ename": "ModuleNotFoundError",
     "evalue": "No module named 'keras'",
     "output_type": "error",
     "traceback": [
      "\u001b[1;31m---------------------------------------------------------------------------\u001b[0m",
      "\u001b[1;31mModuleNotFoundError\u001b[0m                       Traceback (most recent call last)",
      "Input \u001b[1;32mIn [26]\u001b[0m, in \u001b[0;36m<cell line: 1>\u001b[1;34m()\u001b[0m\n\u001b[1;32m----> 1\u001b[0m \u001b[38;5;28;01mimport\u001b[39;00m \u001b[38;5;21;01mkeras\u001b[39;00m\n\u001b[0;32m      2\u001b[0m \u001b[38;5;28;01mfrom\u001b[39;00m \u001b[38;5;21;01mkeras\u001b[39;00m\u001b[38;5;21;01m.\u001b[39;00m\u001b[38;5;21;01mpreprocessing\u001b[39;00m\u001b[38;5;21;01m.\u001b[39;00m\u001b[38;5;21;01mtext\u001b[39;00m \u001b[38;5;28;01mimport\u001b[39;00m Tokenizer\n\u001b[0;32m      3\u001b[0m \u001b[38;5;28;01mfrom\u001b[39;00m \u001b[38;5;21;01mkeras\u001b[39;00m\u001b[38;5;21;01m.\u001b[39;00m\u001b[38;5;21;01mpreprocessing\u001b[39;00m\u001b[38;5;21;01m.\u001b[39;00m\u001b[38;5;21;01msequence\u001b[39;00m \u001b[38;5;28;01mimport\u001b[39;00m pad_sequences\n",
      "\u001b[1;31mModuleNotFoundError\u001b[0m: No module named 'keras'"
     ]
    }
   ],
   "source": [
    "import keras\n",
    "from keras.preprocessing.text import Tokenizer\n",
    "from keras.preprocessing.sequence import pad_sequences\n",
    "from keras.models import Sequential\n",
    "from keras.layers import Dense, Flatten, LSTM, Conv1D, MaxPooling1D, Dropout, Activation\n",
    "from keras.layers.embeddings import Embedding\n",
    "from keras.utils.vis_utils import plot_model"
   ]
  },
  {
   "cell_type": "code",
   "execution_count": 27,
   "id": "8c1e4109",
   "metadata": {},
   "outputs": [],
   "source": [
    "def train_model(text_train_data,hashtag_train_data,train_label,vocab_list,text_keep_num,hashtag_keep_num):    \n",
    "    Adam = keras.optimizers.Adam(lr=0.00001, beta_1=0.9, beta_2=0.999, epsilon=None, decay=0.0, amsgrad=False)\n",
    "    SGD = keras.optimizers.SGD(lr=0.01, momentum=0.0, decay=0.0, nesterov=False)\n",
    "    Ada = keras.optimizers.Adagrad(lr=0.0004, epsilon=None, decay=0.0)"
   ]
  },
  {
   "cell_type": "code",
   "execution_count": 28,
   "id": "db5df023",
   "metadata": {},
   "outputs": [
    {
     "ename": "IndentationError",
     "evalue": "unexpected indent (898718671.py, line 2)",
     "output_type": "error",
     "traceback": [
      "\u001b[1;36m  Input \u001b[1;32mIn [28]\u001b[1;36m\u001b[0m\n\u001b[1;33m    text_block.add(Embedding(len(vocab_list), 400, input_length = text_keep_num))\u001b[0m\n\u001b[1;37m    ^\u001b[0m\n\u001b[1;31mIndentationError\u001b[0m\u001b[1;31m:\u001b[0m unexpected indent\n"
     ]
    }
   ],
   "source": [
    "text_block = Sequential()\n",
    "    text_block.add(Embedding(len(vocab_list), 400, input_length = text_keep_num))\n",
    "    text_block.add(LSTM(800, dropout=0.2, recurrent_dropout=0.2))\n",
    "    text_block.add(Dense(200, activation='sigmoid'))"
   ]
  },
  {
   "cell_type": "code",
   "execution_count": 29,
   "id": "0290dc51",
   "metadata": {},
   "outputs": [
    {
     "ename": "IndentationError",
     "evalue": "unexpected indent (3338126474.py, line 2)",
     "output_type": "error",
     "traceback": [
      "\u001b[1;36m  Input \u001b[1;32mIn [29]\u001b[1;36m\u001b[0m\n\u001b[1;33m    hashtag_block.add(Embedding(len(vocab_list), 400, input_length = hash_keep_num))\u001b[0m\n\u001b[1;37m    ^\u001b[0m\n\u001b[1;31mIndentationError\u001b[0m\u001b[1;31m:\u001b[0m unexpected indent\n"
     ]
    }
   ],
   "source": [
    " hashtag_block = Sequential()\n",
    "    hashtag_block.add(Embedding(len(vocab_list), 400, input_length = hash_keep_num))\n",
    "    hashtag_block.add(Flatten())\n",
    "    hashtag_block.add(Dense(200, activation='sigmoid'))"
   ]
  },
  {
   "cell_type": "code",
   "execution_count": 30,
   "id": "e7da5e53",
   "metadata": {},
   "outputs": [
    {
     "ename": "IndentationError",
     "evalue": "unexpected indent (3568565903.py, line 2)",
     "output_type": "error",
     "traceback": [
      "\u001b[1;36m  Input \u001b[1;32mIn [30]\u001b[1;36m\u001b[0m\n\u001b[1;33m    merged.add(Dense(200, activation='sigmoid'))\u001b[0m\n\u001b[1;37m    ^\u001b[0m\n\u001b[1;31mIndentationError\u001b[0m\u001b[1;31m:\u001b[0m unexpected indent\n"
     ]
    }
   ],
   "source": [
    "merged = Concatenate([text_block, hashtag_block])\n",
    "    merged.add(Dense(200, activation='sigmoid'))\n",
    "    merged.add(Dense(1, activation='sigmoid'))\n",
    "    merged.compile(loss='binary_crossentropy', optimizer=Adam, metrics=['accuracy'])\n",
    "    ## Fit the model\n",
    "    history = merged.fit([np.array(text_train_data),np.array(hashtag_train_data)], np.array(train_label), validation_split=0.3, epochs=30,shuffle=True)\n",
    "    \n",
    "    return merged"
   ]
  },
  {
   "cell_type": "code",
   "execution_count": 31,
   "id": "c8e98e20",
   "metadata": {},
   "outputs": [],
   "source": [
    "lstm_result = []\n",
    "lstm_acc_result = []\n"
   ]
  },
  {
   "cell_type": "code",
   "execution_count": 32,
   "id": "5356a79a",
   "metadata": {},
   "outputs": [],
   "source": [
    "#####10 folder separation\n",
    "def chunks(l, n):\n",
    "    for i in range(0, len(l), n):\n",
    "        yield l[i:i + n]\n"
   ]
  },
  {
   "cell_type": "code",
   "execution_count": 33,
   "id": "006ca737",
   "metadata": {},
   "outputs": [
    {
     "ename": "NameError",
     "evalue": "name 'text_index' is not defined",
     "output_type": "error",
     "traceback": [
      "\u001b[1;31m---------------------------------------------------------------------------\u001b[0m",
      "\u001b[1;31mNameError\u001b[0m                                 Traceback (most recent call last)",
      "Input \u001b[1;32mIn [33]\u001b[0m, in \u001b[0;36m<cell line: 1>\u001b[1;34m()\u001b[0m\n\u001b[1;32m----> 1\u001b[0m target_index \u001b[38;5;241m=\u001b[39m chunks(\u001b[43mtext_index\u001b[49m, \u001b[38;5;241m10\u001b[39m)\n\u001b[0;32m      2\u001b[0m hash_target_index \u001b[38;5;241m=\u001b[39m chunks(hashtag_index, \u001b[38;5;241m10\u001b[39m)\n\u001b[0;32m      3\u001b[0m target_label \u001b[38;5;241m=\u001b[39m chunks(test_label, \u001b[38;5;241m10\u001b[39m)\n",
      "\u001b[1;31mNameError\u001b[0m: name 'text_index' is not defined"
     ]
    }
   ],
   "source": [
    "target_index = chunks(text_index, 10)\n",
    "hash_target_index = chunks(hashtag_index, 10)\n",
    "target_label = chunks(test_label, 10)\n",
    "\n"
   ]
  },
  {
   "cell_type": "code",
   "execution_count": 34,
   "id": "9eeba18d",
   "metadata": {},
   "outputs": [],
   "source": [
    "for count in range(10):\n",
    "    t_p = 0\n",
    "    t_n = 0\n",
    "    f_p = 0\n",
    "    f_n = 0\n",
    "    acc = 0\n",
    "    #target_index,target_label = shuffle_data(target_index,target_label)\n",
    "    #mark = int(len(target_index)/10)\n",
    "    #mark = 10"
   ]
  },
  {
   "cell_type": "code",
   "execution_count": 35,
   "id": "4126fef4",
   "metadata": {},
   "outputs": [
    {
     "ename": "IndentationError",
     "evalue": "unexpected indent (276686172.py, line 3)",
     "output_type": "error",
     "traceback": [
      "\u001b[1;36m  Input \u001b[1;32mIn [35]\u001b[1;36m\u001b[0m\n\u001b[1;33m    test_set = target_index[0]\u001b[0m\n\u001b[1;37m    ^\u001b[0m\n\u001b[1;31mIndentationError\u001b[0m\u001b[1;31m:\u001b[0m unexpected indent\n"
     ]
    }
   ],
   "source": [
    "  ###separate the hashtag part and text part\n",
    "    \n",
    "    test_set = target_index[0]\n",
    "    test_hash = hash_target_index[0]\n",
    "    test_label = target_label[0]"
   ]
  },
  {
   "cell_type": "code",
   "execution_count": 36,
   "id": "274a8bb0",
   "metadata": {},
   "outputs": [
    {
     "ename": "IndentationError",
     "evalue": "unexpected indent (533201703.py, line 2)",
     "output_type": "error",
     "traceback": [
      "\u001b[1;36m  Input \u001b[1;32mIn [36]\u001b[1;36m\u001b[0m\n\u001b[1;33m    train_text = []\u001b[0m\n\u001b[1;37m    ^\u001b[0m\n\u001b[1;31mIndentationError\u001b[0m\u001b[1;31m:\u001b[0m unexpected indent\n"
     ]
    }
   ],
   "source": [
    " ###merge the rest data together\n",
    "    train_text = []\n",
    "    train_hash = []\n",
    "    train_label = []\n",
    "    for t,h,l in zip(list(target_index)[1:],list(hash_target_index)[1:], list(test_label)[1:]):\n",
    "        train_text += t\n",
    "        train_hash += h\n",
    "        train_label += l\n",
    "    "
   ]
  },
  {
   "cell_type": "code",
   "execution_count": 37,
   "id": "485e6809",
   "metadata": {},
   "outputs": [
    {
     "ename": "IndentationError",
     "evalue": "unexpected indent (3764151648.py, line 3)",
     "output_type": "error",
     "traceback": [
      "\u001b[1;36m  Input \u001b[1;32mIn [37]\u001b[1;36m\u001b[0m\n\u001b[1;33m    for t,h,l in zip(test_set,test_hash,test_label):\u001b[0m\n\u001b[1;37m    ^\u001b[0m\n\u001b[1;31mIndentationError\u001b[0m\u001b[1;31m:\u001b[0m unexpected indent\n"
     ]
    }
   ],
   "source": [
    " clf = train_model([train_text,train_hash],train_label,vocab_list,50,15) \n",
    "    \n",
    "    for t,h,l in zip(test_set,test_hash,test_label):\n",
    "        pred = clf.predict([np.array([t]),np.array(h)])\n",
    "        if pred[0][0] < 0.5:\n",
    "            if l == 0:\n",
    "                t_n += 1\n",
    "            else:\n",
    "                f_n += 1\n",
    "        else:\n",
    "            if l == 1:\n",
    "                t_p += 1\n",
    "            else:\n",
    "                f_p += 1\n",
    "                "
   ]
  },
  {
   "cell_type": "code",
   "execution_count": 38,
   "id": "fb0c3f44",
   "metadata": {},
   "outputs": [
    {
     "ename": "IndentationError",
     "evalue": "unexpected indent (3439370295.py, line 3)",
     "output_type": "error",
     "traceback": [
      "\u001b[1;36m  Input \u001b[1;32mIn [38]\u001b[1;36m\u001b[0m\n\u001b[1;33m    lstm_result.append([float(t_p),float(t_n),float(f_p),float(f_n)])\u001b[0m\n\u001b[1;37m    ^\u001b[0m\n\u001b[1;31mIndentationError\u001b[0m\u001b[1;31m:\u001b[0m unexpected indent\n"
     ]
    }
   ],
   "source": [
    "#length = len(target_index[mark:])\n",
    "    #dt_result.append([float(t_p)/p_num,float(t_n)/n_num,float(f_p)/n_num,float(f_n)/p_num])\n",
    "    lstm_result.append([float(t_p),float(t_n),float(f_p),float(f_n)])\n",
    "    #lstm_acc_result.append(float(t_p)/p_num)"
   ]
  },
  {
   "cell_type": "code",
   "execution_count": 39,
   "id": "9fd076cd",
   "metadata": {},
   "outputs": [
    {
     "ename": "IndentationError",
     "evalue": "unexpected indent (153920335.py, line 2)",
     "output_type": "error",
     "traceback": [
      "\u001b[1;36m  Input \u001b[1;32mIn [39]\u001b[1;36m\u001b[0m\n\u001b[1;33m    target_index.append(target_index[0])\u001b[0m\n\u001b[1;37m    ^\u001b[0m\n\u001b[1;31mIndentationError\u001b[0m\u001b[1;31m:\u001b[0m unexpected indent\n"
     ]
    }
   ],
   "source": [
    "####move the first folder of the dataset to the last one\n",
    "    target_index.append(target_index[0])\n",
    "    hash_target_index.append(hash_target_index[0])\n",
    "    target_label.append(target_label[0])"
   ]
  },
  {
   "cell_type": "code",
   "execution_count": 40,
   "id": "62db148a",
   "metadata": {},
   "outputs": [
    {
     "ename": "IndentationError",
     "evalue": "unexpected indent (2713893806.py, line 2)",
     "output_type": "error",
     "traceback": [
      "\u001b[1;36m  Input \u001b[1;32mIn [40]\u001b[1;36m\u001b[0m\n\u001b[1;33m    hash_target_index.pop(0)\u001b[0m\n\u001b[1;37m    ^\u001b[0m\n\u001b[1;31mIndentationError\u001b[0m\u001b[1;31m:\u001b[0m unexpected indent\n"
     ]
    }
   ],
   "source": [
    "target_index.pop(0)\n",
    "    hash_target_index.pop(0)\n",
    "    target_label.pop(0)"
   ]
  },
  {
   "cell_type": "code",
   "execution_count": 41,
   "id": "a5c4bf25",
   "metadata": {},
   "outputs": [
    {
     "name": "stdout",
     "output_type": "stream",
     "text": [
      "Finish 9\n"
     ]
    }
   ],
   "source": [
    "   print('Finish '+str(count))\n"
   ]
  },
  {
   "cell_type": "code",
   "execution_count": 42,
   "id": "2ec3384a",
   "metadata": {},
   "outputs": [
    {
     "ename": "NameError",
     "evalue": "name 'clf' is not defined",
     "output_type": "error",
     "traceback": [
      "\u001b[1;31m---------------------------------------------------------------------------\u001b[0m",
      "\u001b[1;31mNameError\u001b[0m                                 Traceback (most recent call last)",
      "Input \u001b[1;32mIn [42]\u001b[0m, in \u001b[0;36m<cell line: 1>\u001b[1;34m()\u001b[0m\n\u001b[1;32m----> 1\u001b[0m \u001b[43mclf\u001b[49m\u001b[38;5;241m.\u001b[39msave(\u001b[38;5;124m'\u001b[39m\u001b[38;5;124mnew_instagram_model.h5\u001b[39m\u001b[38;5;124m'\u001b[39m)\n",
      "\u001b[1;31mNameError\u001b[0m: name 'clf' is not defined"
     ]
    }
   ],
   "source": [
    "clf.save('new_instagram_model.h5')\n"
   ]
  },
  {
   "cell_type": "code",
   "execution_count": 43,
   "id": "6e185a61",
   "metadata": {},
   "outputs": [
    {
     "name": "stdout",
     "output_type": "stream",
     "text": [
      "0.0 0.0 0.0 0.0\n"
     ]
    }
   ],
   "source": [
    "avg_tp = 0\n",
    "avg_tn = 0\n",
    "avg_fp = 0\n",
    "avg_fn = 0\n",
    "for r in lstm_result:\n",
    "    avg_tp += r[0]\n",
    "    avg_tn += r[1]\n",
    "    avg_fp += r[2]\n",
    "    avg_fn += r[3]\n",
    "print(avg_tp/float(10),avg_tn/float(10),avg_fp/float(10),avg_fn/float(10))\n"
   ]
  },
  {
   "cell_type": "code",
   "execution_count": 44,
   "id": "0f940fec",
   "metadata": {},
   "outputs": [
    {
     "ename": "ZeroDivisionError",
     "evalue": "float division by zero",
     "output_type": "error",
     "traceback": [
      "\u001b[1;31m---------------------------------------------------------------------------\u001b[0m",
      "\u001b[1;31mZeroDivisionError\u001b[0m                         Traceback (most recent call last)",
      "Input \u001b[1;32mIn [44]\u001b[0m, in \u001b[0;36m<cell line: 1>\u001b[1;34m()\u001b[0m\n\u001b[1;32m----> 1\u001b[0m precision \u001b[38;5;241m=\u001b[39m \u001b[38;5;28;43mfloat\u001b[39;49m\u001b[43m(\u001b[49m\u001b[43mavg_tp\u001b[49m\u001b[43m)\u001b[49m\u001b[38;5;241;43m/\u001b[39;49m\u001b[43m(\u001b[49m\u001b[43mavg_tp\u001b[49m\u001b[38;5;241;43m+\u001b[39;49m\u001b[43mavg_fp\u001b[49m\u001b[43m)\u001b[49m\n\u001b[0;32m      2\u001b[0m recall \u001b[38;5;241m=\u001b[39m \u001b[38;5;28mfloat\u001b[39m(avg_tp)\u001b[38;5;241m/\u001b[39m(avg_tp\u001b[38;5;241m+\u001b[39mavg_fn)\n\u001b[0;32m      3\u001b[0m F1 \u001b[38;5;241m=\u001b[39m \u001b[38;5;241m2\u001b[39m\u001b[38;5;241m*\u001b[39m(precision\u001b[38;5;241m*\u001b[39mrecall\u001b[38;5;241m/\u001b[39m(precision\u001b[38;5;241m+\u001b[39mrecall))\n",
      "\u001b[1;31mZeroDivisionError\u001b[0m: float division by zero"
     ]
    }
   ],
   "source": [
    "precision = float(avg_tp)/(avg_tp+avg_fp)\n",
    "recall = float(avg_tp)/(avg_tp+avg_fn)\n",
    "F1 = 2*(precision*recall/(precision+recall))\n",
    "print(precision,recall,F1)"
   ]
  },
  {
   "cell_type": "code",
   "execution_count": 45,
   "id": "25d2d39b",
   "metadata": {},
   "outputs": [
    {
     "ename": "NameError",
     "evalue": "name 'target_index' is not defined",
     "output_type": "error",
     "traceback": [
      "\u001b[1;31m---------------------------------------------------------------------------\u001b[0m",
      "\u001b[1;31mNameError\u001b[0m                                 Traceback (most recent call last)",
      "Input \u001b[1;32mIn [45]\u001b[0m, in \u001b[0;36m<cell line: 2>\u001b[1;34m()\u001b[0m\n\u001b[0;32m      1\u001b[0m target_pred \u001b[38;5;241m=\u001b[39m []\n\u001b[1;32m----> 2\u001b[0m \u001b[38;5;28;01mfor\u001b[39;00m t \u001b[38;5;129;01min\u001b[39;00m \u001b[43mtarget_index\u001b[49m:\n\u001b[0;32m      3\u001b[0m     \u001b[38;5;66;03m#print(np.array(t))\u001b[39;00m\n\u001b[0;32m      4\u001b[0m     target_pred\u001b[38;5;241m.\u001b[39mappend(clf\u001b[38;5;241m.\u001b[39mpredict(np\u001b[38;5;241m.\u001b[39marray([t]))[\u001b[38;5;241m0\u001b[39m][\u001b[38;5;241m0\u001b[39m])\n",
      "\u001b[1;31mNameError\u001b[0m: name 'target_index' is not defined"
     ]
    }
   ],
   "source": [
    "target_pred = []\n",
    "for t in target_index:\n",
    "    #print(np.array(t))\n",
    "    target_pred.append(clf.predict(np.array([t]))[0][0])"
   ]
  },
  {
   "cell_type": "code",
   "execution_count": 46,
   "id": "2bc16bcc",
   "metadata": {},
   "outputs": [
    {
     "ename": "NameError",
     "evalue": "name 'target_label' is not defined",
     "output_type": "error",
     "traceback": [
      "\u001b[1;31m---------------------------------------------------------------------------\u001b[0m",
      "\u001b[1;31mNameError\u001b[0m                                 Traceback (most recent call last)",
      "Input \u001b[1;32mIn [46]\u001b[0m, in \u001b[0;36m<cell line: 1>\u001b[1;34m()\u001b[0m\n\u001b[1;32m----> 1\u001b[0m fpr, tpr, thresholds \u001b[38;5;241m=\u001b[39m metrics\u001b[38;5;241m.\u001b[39mroc_curve(np\u001b[38;5;241m.\u001b[39marray(\u001b[43mtarget_label\u001b[49m), np\u001b[38;5;241m.\u001b[39marray(target_pred), pos_label\u001b[38;5;241m=\u001b[39m\u001b[38;5;241m1\u001b[39m)\n",
      "\u001b[1;31mNameError\u001b[0m: name 'target_label' is not defined"
     ]
    }
   ],
   "source": [
    "fpr, tpr, thresholds = metrics.roc_curve(np.array(target_label), np.array(target_pred), pos_label=1)\n"
   ]
  },
  {
   "cell_type": "code",
   "execution_count": 47,
   "id": "adcff3ad",
   "metadata": {},
   "outputs": [
    {
     "data": {
      "text/plain": [
       "[<matplotlib.lines.Line2D at 0x28b10cf1e20>]"
      ]
     },
     "execution_count": 47,
     "metadata": {},
     "output_type": "execute_result"
    },
    {
     "data": {
      "image/png": "[encoded data removed]",
      "text/plain": [
       "<Figure size 432x288 with 1 Axes>"
      ]
     },
     "metadata": {
      "needs_background": "light"
     },
     "output_type": "display_data"
    }
   ],
   "source": [
    "\n",
    "pyplot.plot([0, 1], [0, 1], linestyle='--')\n"
   ]
  },
  {
   "cell_type": "code",
   "execution_count": 48,
   "id": "c873968b",
   "metadata": {
    "scrolled": true
   },
   "outputs": [
    {
     "ename": "NameError",
     "evalue": "name 'fpr' is not defined",
     "output_type": "error",
     "traceback": [
      "\u001b[1;31m---------------------------------------------------------------------------\u001b[0m",
      "\u001b[1;31mNameError\u001b[0m                                 Traceback (most recent call last)",
      "Input \u001b[1;32mIn [48]\u001b[0m, in \u001b[0;36m<cell line: 1>\u001b[1;34m()\u001b[0m\n\u001b[1;32m----> 1\u001b[0m pyplot\u001b[38;5;241m.\u001b[39mplot(\u001b[43mfpr\u001b[49m, tpr, marker\u001b[38;5;241m=\u001b[39m\u001b[38;5;124m'\u001b[39m\u001b[38;5;124m.\u001b[39m\u001b[38;5;124m'\u001b[39m)\n",
      "\u001b[1;31mNameError\u001b[0m: name 'fpr' is not defined"
     ]
    }
   ],
   "source": [
    "pyplot.plot(fpr, tpr, marker='.')\n"
   ]
  },
  {
   "cell_type": "code",
   "execution_count": 49,
   "id": "a27d2aee",
   "metadata": {},
   "outputs": [],
   "source": [
    "pyplot.show()"
   ]
  },
  {
   "cell_type": "code",
   "execution_count": 50,
   "id": "f07685db",
   "metadata": {},
   "outputs": [
    {
     "ename": "NameError",
     "evalue": "name 'fpr' is not defined",
     "output_type": "error",
     "traceback": [
      "\u001b[1;31m---------------------------------------------------------------------------\u001b[0m",
      "\u001b[1;31mNameError\u001b[0m                                 Traceback (most recent call last)",
      "Input \u001b[1;32mIn [50]\u001b[0m, in \u001b[0;36m<cell line: 1>\u001b[1;34m()\u001b[0m\n\u001b[1;32m----> 1\u001b[0m metrics\u001b[38;5;241m.\u001b[39mauc(\u001b[43mfpr\u001b[49m, tpr)\n",
      "\u001b[1;31mNameError\u001b[0m: name 'fpr' is not defined"
     ]
    }
   ],
   "source": [
    "metrics.auc(fpr, tpr)"
   ]
  },
  {
   "cell_type": "code",
   "execution_count": null,
   "id": "a7d7d524",
   "metadata": {},
   "outputs": [],
   "source": []
  }
 ],
 "metadata": {
  "kernelspec": {
   "display_name": "Python 3",
   "language": "python",
   "name": "python3"
  },
  "language_info": {
   "codemirror_mode": {
    "name": "ipython",
    "version": 3
   },
   "file_extension": ".py",
   "mimetype": "text/x-python",
   "name": "python",
   "nbconvert_exporter": "python",
   "pygments_lexer": "ipython3",
   "version": "3.8.8"
  }
 },
 "nbformat": 4,
 "nbformat_minor": 5
}
